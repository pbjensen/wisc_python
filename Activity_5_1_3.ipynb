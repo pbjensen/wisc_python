{
  "nbformat": 4,
  "nbformat_minor": 0,
  "metadata": {
    "colab": {
      "name": "Activity 5.1.3.ipynb",
      "provenance": [],
      "authorship_tag": "ABX9TyPPPAZpL2x07EcNYanQJ11B",
      "include_colab_link": true
    },
    "kernelspec": {
      "name": "python3",
      "display_name": "Python 3"
    },
    "language_info": {
      "name": "python"
    }
  },
  "cells": [
    {
      "cell_type": "markdown",
      "metadata": {
        "id": "view-in-github",
        "colab_type": "text"
      },
      "source": [
        "<a href=\"https://colab.research.google.com/github/pbjensen/wisc_python/blob/main/Activity_5_1_3.ipynb\" target=\"_parent\"><img src=\"https://colab.research.google.com/assets/colab-badge.svg\" alt=\"Open In Colab\"/></a>"
      ]
    },
    {
      "cell_type": "markdown",
      "source": [
        "# Access the Cocktail API"
      ],
      "metadata": {
        "id": "9M7SPaBkmxuj"
      }
    },
    {
      "cell_type": "code",
      "source": [
        "#import libraries\n",
        "import json\n",
        "import requests\n",
        "\n",
        "#using the requests library, call the api\n",
        "r = requests.get('http://www.thecocktaildb.com/api/json/v1/1/search.php?s=Royal Gin Fiz')\n",
        "#change the response you get into text, then convert to json\n",
        "parsed = json.loads(r.text)\n",
        "#set the formatting of the json text and print\n",
        "print(json.dumps(parsed, indent=4, sort_keys=True))"
      ],
      "metadata": {
        "colab": {
          "base_uri": "https://localhost:8080/"
        },
        "id": "_CHSkYj5lpLh",
        "outputId": "1fda92af-5f0d-45f1-fe2e-492231df9e94"
      },
      "execution_count": 10,
      "outputs": [
        {
          "output_type": "stream",
          "name": "stdout",
          "text": [
            "{\n",
            "    \"drinks\": [\n",
            "        {\n",
            "            \"dateModified\": \"2017-09-06 23:07:52\",\n",
            "            \"idDrink\": \"12057\",\n",
            "            \"strAlcoholic\": \"Alcoholic\",\n",
            "            \"strCategory\": \"Ordinary Drink\",\n",
            "            \"strCreativeCommonsConfirmed\": \"No\",\n",
            "            \"strDrink\": \"Royal Gin Fizz\",\n",
            "            \"strDrinkAlternate\": null,\n",
            "            \"strDrinkThumb\": \"https://www.thecocktaildb.com/images/media/drink/pe1x1c1504735672.jpg\",\n",
            "            \"strGlass\": \"Highball glass\",\n",
            "            \"strIBA\": null,\n",
            "            \"strImageAttribution\": null,\n",
            "            \"strImageSource\": null,\n",
            "            \"strIngredient1\": \"Gin\",\n",
            "            \"strIngredient10\": null,\n",
            "            \"strIngredient11\": null,\n",
            "            \"strIngredient12\": null,\n",
            "            \"strIngredient13\": null,\n",
            "            \"strIngredient14\": null,\n",
            "            \"strIngredient15\": null,\n",
            "            \"strIngredient2\": \"Lemon\",\n",
            "            \"strIngredient3\": \"Powdered sugar\",\n",
            "            \"strIngredient4\": \"Egg\",\n",
            "            \"strIngredient5\": \"Carbonated water\",\n",
            "            \"strIngredient6\": null,\n",
            "            \"strIngredient7\": null,\n",
            "            \"strIngredient8\": null,\n",
            "            \"strIngredient9\": null,\n",
            "            \"strInstructions\": \"Shake all ingredients (except carbonated water) with ice and strain into a highball glass over two ice cubes. Fill with carbonated water, stir, and serve.\",\n",
            "            \"strInstructionsDE\": \"Alle Zutaten (au\\u00dfer kohlens\\u00e4urehaltigem Wasser) mit Eis sch\\u00fctteln und \\u00fcber zwei Eisw\\u00fcrfel in ein Highball-Glas sieben. Mit kohlens\\u00e4urehaltigem Wasser auff\\u00fcllen, umr\\u00fchren und servieren.\",\n",
            "            \"strInstructionsES\": null,\n",
            "            \"strInstructionsFR\": null,\n",
            "            \"strInstructionsIT\": \"Shakerare tutti gli ingredienti (eccetto l'acqua gassata) con ghiaccio e filtrare in un bicchiere highball su due cubetti di ghiaccio. Riempi con acqua gassata, mescola e servi\",\n",
            "            \"strInstructionsZH-HANS\": null,\n",
            "            \"strInstructionsZH-HANT\": null,\n",
            "            \"strMeasure1\": \"2 oz \",\n",
            "            \"strMeasure10\": null,\n",
            "            \"strMeasure11\": null,\n",
            "            \"strMeasure12\": null,\n",
            "            \"strMeasure13\": null,\n",
            "            \"strMeasure14\": null,\n",
            "            \"strMeasure15\": null,\n",
            "            \"strMeasure2\": \"Juice of 1/2 \",\n",
            "            \"strMeasure3\": \"1 tsp \",\n",
            "            \"strMeasure4\": \"1 whole \",\n",
            "            \"strMeasure5\": null,\n",
            "            \"strMeasure6\": null,\n",
            "            \"strMeasure7\": null,\n",
            "            \"strMeasure8\": null,\n",
            "            \"strMeasure9\": null,\n",
            "            \"strTags\": null,\n",
            "            \"strVideo\": null\n",
            "        }\n",
            "    ]\n",
            "}\n"
          ]
        }
      ]
    }
  ]
}